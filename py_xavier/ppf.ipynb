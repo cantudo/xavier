{
 "cells": [
  {
   "cell_type": "code",
   "execution_count": null,
   "metadata": {},
   "outputs": [],
   "source": [
    "from py_xavier import Xavier\n",
    "\n",
    "xavier = Xavier('localhost', 8000)\n",
    "xavier.api_isalive()"
   ]
  },
  {
   "cell_type": "code",
   "execution_count": null,
   "metadata": {},
   "outputs": [],
   "source": [
    "from typing import List \n",
    "from py_xavier.custom_types import PulseTrain\n",
    "import time\n",
    "import numpy as np\n",
    "\n",
    "pulse_train_collection: List[PulseTrain] = []\n",
    "\n",
    "spike_time = 1e-3\n",
    "spike_voltage = 0.9\n",
    "inter_spike = np.array([0.05, 0.1, 0.2, 0.3, 0.4, 0.5, 0.6, 0.7, 0.8, 0.9, 1])\n",
    "\n",
    "measurement_delay = 5e-3\n",
    "\n",
    "for i in range(inter_spike):\n",
    "\n",
    "    cycle_time = spike_time * 2\n",
    "    duty_cycle = 0.5\n",
    "\n",
    "    pulse_train_collection.append({\n",
    "        'cycle_time': cycle_time,\n",
    "        'duty_cycle': duty_cycle,\n",
    "        'n_pulses': 1,\n",
    "        'v_high': 0,\n",
    "        'v_low': spike_voltage,\n",
    "        'delay': inter_spike[i]\n",
    "    })\n",
    "\n",
    "    pulse_train_collection.append({\n",
    "        'cycle_time': cycle_time,\n",
    "        'duty_cycle': duty_cycle,\n",
    "        'n_pulses': 1,\n",
    "        'v_high': spike_voltage,\n",
    "        'v_low': 0,\n",
    "        'delay': measurement_delay\n",
    "    })\n",
    "\n",
    "\n",
    "args = {\n",
    "    \"pulse_train_collection\": pulse_train_collection,\n",
    "    \"n_points_high\": 100,\n",
    "    \"n_points_low\": 100,\n",
    "    \"avg_time\": 100e-6,\n",
    "    \"noise\": False,\n",
    "    \"noise_std\": 0.0\n",
    "}\n",
    "\n",
    "meas_id = -1\n",
    "\n",
    "meas_resp = xavier.measure.pulse_collection(**args)\n",
    "if 'id' in meas_resp:\n",
    "    meas_id = meas_resp['id']\n",
    "    \n",
    "    \n",
    "time.sleep(8)\n",
    "    "
   ]
  },
  {
   "cell_type": "code",
   "execution_count": null,
   "metadata": {},
   "outputs": [],
   "source": [
    "import matplotlib.pyplot as plt\n",
    "import numpy as np\n",
    "\n",
    "data = xavier.measure.retrieve_measurement(3352)['data']\n",
    "\n",
    "voltage = list(map(lambda el: el['voltage'], data))\n",
    "time = list(map(lambda el: el['time'], data))\n",
    "current = np.array(list(map(lambda el: el['current'], data)))\n",
    "\n",
    "plt.figure(figsize=(10,5))\n",
    "fig, ax = plt.subplots()\n",
    "ax2 = ax.twinx()\n",
    "\n",
    "voltage_plot = ax.plot(time, voltage, label='Voltage')\n",
    "current_plot = ax2.plot(time, current, color='C1', label='Current')\n",
    "\n",
    "ax.set_ylabel('Voltage (V)')\n",
    "ax2.set_ylabel(r'Current (mA)')\n",
    "ax.set_xlabel('Time (s)')\n",
    "\n",
    "plt.grid()\n",
    "plt.show()"
   ]
  }
 ],
 "metadata": {
  "kernelspec": {
   "display_name": "Python 3",
   "language": "python",
   "name": "python3"
  },
  "language_info": {
   "name": "python",
   "version": "3.10.9 (main, Dec 19 2022, 17:35:49) [GCC 12.2.0]"
  },
  "orig_nbformat": 4,
  "vscode": {
   "interpreter": {
    "hash": "e7370f93d1d0cde622a1f8e1c04877d8463912d04d973331ad4851f04de6915a"
   }
  }
 },
 "nbformat": 4,
 "nbformat_minor": 2
}
