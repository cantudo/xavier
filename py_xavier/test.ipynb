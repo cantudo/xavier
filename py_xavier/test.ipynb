{
 "cells": [
  {
   "cell_type": "code",
   "execution_count": 1,
   "metadata": {},
   "outputs": [],
   "source": [
    "from py_xavier import Xavier\n",
    "\n",
    "xavier = Xavier('localhost', 8000)"
   ]
  },
  {
   "cell_type": "code",
   "execution_count": 3,
   "metadata": {},
   "outputs": [
    {
     "data": {
      "text/plain": [
       "True"
      ]
     },
     "execution_count": 3,
     "metadata": {},
     "output_type": "execute_result"
    }
   ],
   "source": [
    "xavier.api_isalive()"
   ]
  },
  {
   "cell_type": "code",
   "execution_count": 7,
   "metadata": {},
   "outputs": [
    {
     "data": {
      "text/plain": [
       "{'id': 3345}"
      ]
     },
     "execution_count": 7,
     "metadata": {},
     "output_type": "execute_result"
    }
   ],
   "source": [
    "# args = {\n",
    "#     \"v_high\": 1,\n",
    "#     \"v_low\": 0,\n",
    "#     \"cycle_time\": 1e-3,\n",
    "\n",
    "#     \"duty_cycle\": 0.5,\n",
    "#     \"n_pulses\": 10,\n",
    "\n",
    "#     \"n_points_high\": 10,\n",
    "#     \"n_points_low\": 10,\n",
    "    \n",
    "#     \"avg_time\": 0.1e-5,\n",
    "#     \"noise\": False,\n",
    "#     \"noise_std\": 0.0\n",
    "# }\n",
    "\n",
    "\n",
    "# xavier.measure.pulse(**args)"
   ]
  },
  {
   "cell_type": "code",
   "execution_count": 17,
   "metadata": {},
   "outputs": [
    {
     "name": "stdout",
     "output_type": "stream",
     "text": [
      "b'{\"id\":3354}'\n"
     ]
    },
    {
     "data": {
      "text/plain": [
       "{'id': 3354}"
      ]
     },
     "execution_count": 17,
     "metadata": {},
     "output_type": "execute_result"
    }
   ],
   "source": [
    "\n",
    "from typing import List\n",
    "from py_xavier.custom_types import PulseTrain\n",
    "\n",
    "pulse_train_collection: List[PulseTrain] = []\n",
    "\n",
    "low_voltages = [-1.1, -1.2, -1.3]\n",
    "for i in range(3):\n",
    "    for train_type in ['potenciation', 'depression']:\n",
    "        if train_type == 'depression':\n",
    "            low_voltage = low_voltages[i]\n",
    "        else:\n",
    "            low_voltage = 0.9\n",
    "\n",
    "        pulse_train_collection.append({\n",
    "            'cycle_time': 1e-3,\n",
    "            'duty_cycle': 0.5,\n",
    "            'n_pulses': 5,\n",
    "            'v_high': 0,\n",
    "            'v_low': low_voltage\n",
    "        })\n",
    "\n",
    "\n",
    "args = {\n",
    "    \"pulse_train_collection\": pulse_train_collection,\n",
    "    \"n_points_high\": 10,\n",
    "    \"n_points_low\": 10,\n",
    "    \"avg_time\": 0.1e-3,\n",
    "    \"noise\": False,\n",
    "    \"noise_std\": 0.0\n",
    "}\n",
    "\n",
    "\n",
    "xavier.measure.pulse_collection(**args)"
   ]
  },
  {
   "cell_type": "code",
   "execution_count": 19,
   "metadata": {},
   "outputs": [],
   "source": [
    "import matplotlib.pyplot as plt\n",
    "\n",
    "data = xavier.measure.retrieve_measurement(3354)['data']\n",
    "\n",
    "voltage = list(map(lambda el: el['voltage'], data))\n",
    "time = list(map(lambda el: el['time'], data))"
   ]
  },
  {
   "cell_type": "code",
   "execution_count": 21,
   "metadata": {},
   "outputs": [
    {
     "data": {
      "text/plain": [
       "[<matplotlib.lines.Line2D at 0x7f8456a885e0>]"
      ]
     },
     "execution_count": 21,
     "metadata": {},
     "output_type": "execute_result"
    },
    {
     "data": {
      "image/png": "[encoded data removed]",
      "text/plain": [
       "<Figure size 640x480 with 1 Axes>"
      ]
     },
     "metadata": {},
     "output_type": "display_data"
    }
   ],
   "source": [
    "plt.plot(time, voltage)"
   ]
  },
  {
   "cell_type": "code",
   "execution_count": 4,
   "metadata": {},
   "outputs": [
    {
     "name": "stdout",
     "output_type": "stream",
     "text": [
      "<class 'dict'>\n"
     ]
    }
   ],
   "source": [
    "from typing import TypedDict\n",
    "\n",
    "class a(TypedDict):\n",
    "    b: float\n",
    "\n",
    "c: a = {'b': 1.0}\n",
    "\n",
    "print(type(c))"
   ]
  }
 ],
 "metadata": {
  "kernelspec": {
   "display_name": "Python 3",
   "language": "python",
   "name": "python3"
  },
  "language_info": {
   "codemirror_mode": {
    "name": "ipython",
    "version": 3
   },
   "file_extension": ".py",
   "mimetype": "text/x-python",
   "name": "python",
   "nbconvert_exporter": "python",
   "pygments_lexer": "ipython3",
   "version": "3.10.9"
  },
  "orig_nbformat": 4,
  "vscode": {
   "interpreter": {
    "hash": "e7370f93d1d0cde622a1f8e1c04877d8463912d04d973331ad4851f04de6915a"
   }
  }
 },
 "nbformat": 4,
 "nbformat_minor": 2
}
