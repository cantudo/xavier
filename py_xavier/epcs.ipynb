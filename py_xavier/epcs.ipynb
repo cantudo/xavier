{
 "cells": [
  {
   "cell_type": "code",
   "execution_count": null,
   "metadata": {},
   "outputs": [],
   "source": [
    "from py_xavier import Xavier\n",
    "\n",
    "xavier = Xavier('localhost', 8000)\n",
    "xavier.api_isalive()"
   ]
  },
  {
   "cell_type": "code",
   "execution_count": 2,
   "metadata": {},
   "outputs": [
    {
     "ename": "NameError",
     "evalue": "name 'np' is not defined",
     "output_type": "error",
     "traceback": [
      "\u001b[0;31m---------------------------------------------------------------------------\u001b[0m",
      "\u001b[0;31mNameError\u001b[0m                                 Traceback (most recent call last)",
      "Cell \u001b[0;32mIn[2], line 7\u001b[0m\n\u001b[1;32m      3\u001b[0m \u001b[39mimport\u001b[39;00m \u001b[39mtime\u001b[39;00m\n\u001b[1;32m      5\u001b[0m pulse_train_collection: List[PulseTrain] \u001b[39m=\u001b[39m []\n\u001b[0;32m----> 7\u001b[0m reset_voltages \u001b[39m=\u001b[39m np\u001b[39m.\u001b[39marray([\u001b[39m-\u001b[39m\u001b[39m1\u001b[39m, \u001b[39m-\u001b[39m\u001b[39m1\u001b[39m, \u001b[39m-\u001b[39m\u001b[39m1\u001b[39m])\u001b[39m*\u001b[39m\u001b[39m0.5\u001b[39m\n\u001b[1;32m      8\u001b[0m set_voltages \u001b[39m=\u001b[39m np\u001b[39m.\u001b[39marray([\u001b[39m1\u001b[39m, \u001b[39m1\u001b[39m, \u001b[39m1\u001b[39m])\u001b[39m*\u001b[39m\u001b[39m0.5\u001b[39m\n\u001b[1;32m     10\u001b[0m reset_pulse_width \u001b[39m=\u001b[39m \u001b[39m1e-3\u001b[39m\n",
      "\u001b[0;31mNameError\u001b[0m: name 'np' is not defined"
     ]
    }
   ],
   "source": [
    "from typing import List \n",
    "from py_xavier.custom_types import PulseTrain\n",
    "import time\n",
    "import numpy as np\n",
    "\n",
    "pulse_train_collection: List[PulseTrain] = []\n",
    "\n",
    "epcs_iter_time = 1e-3\n",
    "epcs_freqs = np.array([20, 50, 100])\n",
    "spike_time = 100e-6\n",
    "\n",
    "for i in range(2):\n",
    "\n",
    "    cycle_time = 1 / epcs_freqs[i]\n",
    "    duty_cycle = spike_time / cycle_time\n",
    "\n",
    "    pulse_train_collection.append({\n",
    "        'cycle_time': cycle_time,\n",
    "        'duty_cycle': duty_cycle,\n",
    "        'n_pulses': 100,\n",
    "        'v_high': 0.2,\n",
    "        'v_low': 0,\n",
    "        'delay': epcs_iter_time if i != 0 else 0\n",
    "    })\n",
    "\n",
    "\n",
    "args = {\n",
    "    \"pulse_train_collection\": pulse_train_collection,\n",
    "    \"n_points_high\": 100,\n",
    "    \"n_points_low\": 100,\n",
    "    \"avg_time\": 100e-6,\n",
    "    \"noise\": False,\n",
    "    \"noise_std\": 0.0\n",
    "}\n",
    "\n",
    "meas_id = -1\n",
    "\n",
    "meas_resp = xavier.measure.pulse_collection(**args)\n",
    "if 'id' in meas_resp:\n",
    "    meas_id = meas_resp['id']\n",
    "    \n",
    "    \n",
    "time.sleep(8)\n",
    "    "
   ]
  },
  {
   "cell_type": "code",
   "execution_count": null,
   "metadata": {},
   "outputs": [],
   "source": [
    "import matplotlib.pyplot as plt\n",
    "import numpy as np\n",
    "\n",
    "data = xavier.measure.retrieve_measurement(3352)['data']\n",
    "\n",
    "voltage = list(map(lambda el: el['voltage'], data))\n",
    "time = list(map(lambda el: el['time'], data))\n",
    "current = np.array(list(map(lambda el: el['current'], data)))\n",
    "\n",
    "plt.figure(figsize=(10,5))\n",
    "fig, ax = plt.subplots()\n",
    "ax2 = ax.twinx()\n",
    "\n",
    "voltage_plot = ax.plot(time, voltage, label='Voltage')\n",
    "current_plot = ax2.plot(time, current, color='C1', label='Current')\n",
    "\n",
    "ax.set_ylabel('Voltage (V)')\n",
    "ax2.set_ylabel(r'Current (mA)')\n",
    "ax.set_xlabel('Time (s)')\n",
    "\n",
    "plt.grid()\n",
    "plt.show()"
   ]
  }
 ],
 "metadata": {
  "kernelspec": {
   "display_name": "Python 3",
   "language": "python",
   "name": "python3"
  },
  "language_info": {
   "codemirror_mode": {
    "name": "ipython",
    "version": 3
   },
   "file_extension": ".py",
   "mimetype": "text/x-python",
   "name": "python",
   "nbconvert_exporter": "python",
   "pygments_lexer": "ipython3",
   "version": "3.10.9"
  },
  "orig_nbformat": 4,
  "vscode": {
   "interpreter": {
    "hash": "e7370f93d1d0cde622a1f8e1c04877d8463912d04d973331ad4851f04de6915a"
   }
  }
 },
 "nbformat": 4,
 "nbformat_minor": 2
}
